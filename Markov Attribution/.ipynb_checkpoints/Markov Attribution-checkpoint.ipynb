{
 "cells": [
  {
   "cell_type": "markdown",
   "metadata": {},
   "source": [
    "\n",
    "# MARKOV ATTRIBUTION MODEL"
   ]
  },
  {
   "cell_type": "markdown",
   "metadata": {},
   "source": [
    "## Importing necessary libraries"
   ]
  },
  {
   "cell_type": "code",
   "execution_count": 273,
   "metadata": {},
   "outputs": [],
   "source": [
    "#Importing important libraries\n",
    "\n",
    "import pandas as pd\n",
    "import numpy as np\n",
    "import seaborn as sns\n",
    "import matplotlib.pyplot as plt\n",
    "from collections import defaultdict"
   ]
  },
  {
   "cell_type": "markdown",
   "metadata": {},
   "source": [
    "## Importing data from excel file"
   ]
  },
  {
   "cell_type": "code",
   "execution_count": 274,
   "metadata": {},
   "outputs": [],
   "source": [
    "#importing dataframe from excel file\n",
    "\n",
    "dataframe = pd.read_excel(\"C:/Users/KUSH/Desktop/Markov Attribution/NEW.xlsx\")"
   ]
  },
  {
   "cell_type": "code",
   "execution_count": 275,
   "metadata": {},
   "outputs": [
    {
     "data": {
      "text/html": [
       "<div>\n",
       "<style scoped>\n",
       "    .dataframe tbody tr th:only-of-type {\n",
       "        vertical-align: middle;\n",
       "    }\n",
       "\n",
       "    .dataframe tbody tr th {\n",
       "        vertical-align: top;\n",
       "    }\n",
       "\n",
       "    .dataframe thead th {\n",
       "        text-align: right;\n",
       "    }\n",
       "</style>\n",
       "<table border=\"1\" class=\"dataframe\">\n",
       "  <thead>\n",
       "    <tr style=\"text-align: right;\">\n",
       "      <th></th>\n",
       "      <th>order_id</th>\n",
       "      <th>evt_campaign_name</th>\n",
       "      <th>evt_date</th>\n",
       "      <th>SLS_Date</th>\n",
       "      <th>Brand</th>\n",
       "      <th>Campaign_Brand</th>\n",
       "      <th>EXT_RETL_AMT</th>\n",
       "      <th>Total_GDISC</th>\n",
       "      <th>units_sls</th>\n",
       "      <th>Conversion</th>\n",
       "    </tr>\n",
       "  </thead>\n",
       "  <tbody>\n",
       "    <tr>\n",
       "      <th>0</th>\n",
       "      <td>155212188690</td>\n",
       "      <td>SocialMedia_P-VF-F_Vendor-Video-Milwaukee</td>\n",
       "      <td>2019-11-05</td>\n",
       "      <td>2019-11-15</td>\n",
       "      <td>TOWSMART</td>\n",
       "      <td>MILWAUKEE</td>\n",
       "      <td>9.47</td>\n",
       "      <td>0.00</td>\n",
       "      <td>1</td>\n",
       "      <td>0</td>\n",
       "    </tr>\n",
       "    <tr>\n",
       "      <th>1</th>\n",
       "      <td>155212188690</td>\n",
       "      <td>SocialMedia_P-VF-F_Vendor-Video-Milwaukee</td>\n",
       "      <td>2019-11-05</td>\n",
       "      <td>2019-11-15</td>\n",
       "      <td>ENERGIZER</td>\n",
       "      <td>MILWAUKEE</td>\n",
       "      <td>7.28</td>\n",
       "      <td>0.00</td>\n",
       "      <td>1</td>\n",
       "      <td>0</td>\n",
       "    </tr>\n",
       "    <tr>\n",
       "      <th>2</th>\n",
       "      <td>155212188690</td>\n",
       "      <td>SocialMedia_P-VF-F_Vendor-Video-Milwaukee</td>\n",
       "      <td>2019-11-05</td>\n",
       "      <td>2019-11-15</td>\n",
       "      <td>RAMSET</td>\n",
       "      <td>MILWAUKEE</td>\n",
       "      <td>18.97</td>\n",
       "      <td>-1.15</td>\n",
       "      <td>1</td>\n",
       "      <td>0</td>\n",
       "    </tr>\n",
       "    <tr>\n",
       "      <th>3</th>\n",
       "      <td>155212188690</td>\n",
       "      <td>SocialMedia_P-VF-F_Vendor-Video-Milwaukee</td>\n",
       "      <td>2019-11-05</td>\n",
       "      <td>2019-11-15</td>\n",
       "      <td>MILWAUKEE</td>\n",
       "      <td>MILWAUKEE</td>\n",
       "      <td>100.00</td>\n",
       "      <td>-30.00</td>\n",
       "      <td>1</td>\n",
       "      <td>1</td>\n",
       "    </tr>\n",
       "    <tr>\n",
       "      <th>4</th>\n",
       "      <td>155212188690</td>\n",
       "      <td>SocialMedia_P-VF-F_Vendor-Link-Milwaukee</td>\n",
       "      <td>2019-11-07</td>\n",
       "      <td>2019-11-15</td>\n",
       "      <td>TOWSMART</td>\n",
       "      <td>MILWAUKEE</td>\n",
       "      <td>9.47</td>\n",
       "      <td>0.00</td>\n",
       "      <td>1</td>\n",
       "      <td>0</td>\n",
       "    </tr>\n",
       "  </tbody>\n",
       "</table>\n",
       "</div>"
      ],
      "text/plain": [
       "       order_id                          evt_campaign_name   evt_date  \\\n",
       "0  155212188690  SocialMedia_P-VF-F_Vendor-Video-Milwaukee 2019-11-05   \n",
       "1  155212188690  SocialMedia_P-VF-F_Vendor-Video-Milwaukee 2019-11-05   \n",
       "2  155212188690  SocialMedia_P-VF-F_Vendor-Video-Milwaukee 2019-11-05   \n",
       "3  155212188690  SocialMedia_P-VF-F_Vendor-Video-Milwaukee 2019-11-05   \n",
       "4  155212188690   SocialMedia_P-VF-F_Vendor-Link-Milwaukee 2019-11-07   \n",
       "\n",
       "    SLS_Date      Brand Campaign_Brand  EXT_RETL_AMT  Total_GDISC  units_sls  \\\n",
       "0 2019-11-15   TOWSMART      MILWAUKEE          9.47         0.00          1   \n",
       "1 2019-11-15  ENERGIZER      MILWAUKEE          7.28         0.00          1   \n",
       "2 2019-11-15     RAMSET      MILWAUKEE         18.97        -1.15          1   \n",
       "3 2019-11-15  MILWAUKEE      MILWAUKEE        100.00       -30.00          1   \n",
       "4 2019-11-15   TOWSMART      MILWAUKEE          9.47         0.00          1   \n",
       "\n",
       "   Conversion  \n",
       "0           0  \n",
       "1           0  \n",
       "2           0  \n",
       "3           1  \n",
       "4           0  "
      ]
     },
     "execution_count": 275,
     "metadata": {},
     "output_type": "execute_result"
    }
   ],
   "source": [
    "dataframe.head()"
   ]
  },
  {
   "cell_type": "markdown",
   "metadata": {},
   "source": [
    "> To check conversion is **1** where ***Brand = Campaign_Brand*** and **0** where it's not "
   ]
  },
  {
   "cell_type": "code",
   "execution_count": 276,
   "metadata": {},
   "outputs": [
    {
     "data": {
      "text/html": [
       "<div>\n",
       "<style scoped>\n",
       "    .dataframe tbody tr th:only-of-type {\n",
       "        vertical-align: middle;\n",
       "    }\n",
       "\n",
       "    .dataframe tbody tr th {\n",
       "        vertical-align: top;\n",
       "    }\n",
       "\n",
       "    .dataframe thead th {\n",
       "        text-align: right;\n",
       "    }\n",
       "</style>\n",
       "<table border=\"1\" class=\"dataframe\">\n",
       "  <thead>\n",
       "    <tr style=\"text-align: right;\">\n",
       "      <th></th>\n",
       "      <th>order_id</th>\n",
       "      <th>evt_campaign_name</th>\n",
       "      <th>evt_date</th>\n",
       "      <th>SLS_Date</th>\n",
       "      <th>Brand</th>\n",
       "      <th>Campaign_Brand</th>\n",
       "      <th>EXT_RETL_AMT</th>\n",
       "      <th>Total_GDISC</th>\n",
       "      <th>units_sls</th>\n",
       "      <th>Conversion</th>\n",
       "    </tr>\n",
       "  </thead>\n",
       "  <tbody>\n",
       "    <tr>\n",
       "      <th>3</th>\n",
       "      <td>155212188690</td>\n",
       "      <td>SocialMedia_P-VF-F_Vendor-Video-Milwaukee</td>\n",
       "      <td>2019-11-05</td>\n",
       "      <td>2019-11-15</td>\n",
       "      <td>MILWAUKEE</td>\n",
       "      <td>MILWAUKEE</td>\n",
       "      <td>100.00</td>\n",
       "      <td>-30.00</td>\n",
       "      <td>1</td>\n",
       "      <td>1</td>\n",
       "    </tr>\n",
       "    <tr>\n",
       "      <th>7</th>\n",
       "      <td>155212188690</td>\n",
       "      <td>SocialMedia_P-VF-F_Vendor-Link-Milwaukee</td>\n",
       "      <td>2019-11-07</td>\n",
       "      <td>2019-11-15</td>\n",
       "      <td>MILWAUKEE</td>\n",
       "      <td>MILWAUKEE</td>\n",
       "      <td>100.00</td>\n",
       "      <td>-30.00</td>\n",
       "      <td>1</td>\n",
       "      <td>1</td>\n",
       "    </tr>\n",
       "    <tr>\n",
       "      <th>11</th>\n",
       "      <td>155212188690</td>\n",
       "      <td>SocialMedia_P-VF-F_Vendor-FB-Milwaukee</td>\n",
       "      <td>2019-11-12</td>\n",
       "      <td>2019-11-15</td>\n",
       "      <td>MILWAUKEE</td>\n",
       "      <td>MILWAUKEE</td>\n",
       "      <td>100.00</td>\n",
       "      <td>-30.00</td>\n",
       "      <td>1</td>\n",
       "      <td>1</td>\n",
       "    </tr>\n",
       "    <tr>\n",
       "      <th>15</th>\n",
       "      <td>155212188690</td>\n",
       "      <td>SocialMedia_P-VF-F_Vendor-IG-Milwaukee</td>\n",
       "      <td>2019-11-15</td>\n",
       "      <td>2019-11-15</td>\n",
       "      <td>MILWAUKEE</td>\n",
       "      <td>MILWAUKEE</td>\n",
       "      <td>100.00</td>\n",
       "      <td>-30.00</td>\n",
       "      <td>1</td>\n",
       "      <td>1</td>\n",
       "    </tr>\n",
       "    <tr>\n",
       "      <th>18</th>\n",
       "      <td>411007857</td>\n",
       "      <td>DynamicMedia|DPAM|REGT</td>\n",
       "      <td>2019-11-10</td>\n",
       "      <td>2019-11-19</td>\n",
       "      <td>MILWAUKEE</td>\n",
       "      <td>MILWAUKEE</td>\n",
       "      <td>39.47</td>\n",
       "      <td>-5.26</td>\n",
       "      <td>1</td>\n",
       "      <td>1</td>\n",
       "    </tr>\n",
       "  </tbody>\n",
       "</table>\n",
       "</div>"
      ],
      "text/plain": [
       "        order_id                          evt_campaign_name   evt_date  \\\n",
       "3   155212188690  SocialMedia_P-VF-F_Vendor-Video-Milwaukee 2019-11-05   \n",
       "7   155212188690   SocialMedia_P-VF-F_Vendor-Link-Milwaukee 2019-11-07   \n",
       "11  155212188690     SocialMedia_P-VF-F_Vendor-FB-Milwaukee 2019-11-12   \n",
       "15  155212188690     SocialMedia_P-VF-F_Vendor-IG-Milwaukee 2019-11-15   \n",
       "18     411007857                     DynamicMedia|DPAM|REGT 2019-11-10   \n",
       "\n",
       "     SLS_Date      Brand Campaign_Brand  EXT_RETL_AMT  Total_GDISC  units_sls  \\\n",
       "3  2019-11-15  MILWAUKEE      MILWAUKEE        100.00       -30.00          1   \n",
       "7  2019-11-15  MILWAUKEE      MILWAUKEE        100.00       -30.00          1   \n",
       "11 2019-11-15  MILWAUKEE      MILWAUKEE        100.00       -30.00          1   \n",
       "15 2019-11-15  MILWAUKEE      MILWAUKEE        100.00       -30.00          1   \n",
       "18 2019-11-19  MILWAUKEE      MILWAUKEE         39.47        -5.26          1   \n",
       "\n",
       "    Conversion  \n",
       "3            1  \n",
       "7            1  \n",
       "11           1  \n",
       "15           1  \n",
       "18           1  "
      ]
     },
     "execution_count": 276,
     "metadata": {},
     "output_type": "execute_result"
    }
   ],
   "source": [
    "dataframe[dataframe.Brand == dataframe.Campaign_Brand].head()"
   ]
  },
  {
   "cell_type": "markdown",
   "metadata": {},
   "source": [
    "## Giving overall **Conversion** or **No Conversion** value to each order"
   ]
  },
  {
   "cell_type": "markdown",
   "metadata": {},
   "source": [
    "Have created a seperate list for all the orders where there was a conversion i.e **Conversion = 1** "
   ]
  },
  {
   "cell_type": "code",
   "execution_count": 277,
   "metadata": {},
   "outputs": [
    {
     "data": {
      "text/plain": [
       "array([155212188690, 411007857, 106118029560], dtype=object)"
      ]
     },
     "execution_count": 277,
     "metadata": {},
     "output_type": "execute_result"
    }
   ],
   "source": [
    "extra = dataframe[dataframe[\"Conversion\"]==1][\"order_id\"].unique()\n",
    "extra"
   ]
  },
  {
   "cell_type": "code",
   "execution_count": 278,
   "metadata": {},
   "outputs": [],
   "source": [
    "dataframe[\"Result\"] = \"No Conversion\"\n",
    "for index, row in dataframe.iterrows():\n",
    "    if(row[\"order_id\"] in extra):\n",
    "        dataframe[\"Result\"] = np.where(dataframe.order_id.isin(extra), \"Conversion\" , \"No Conversion\")"
   ]
  },
  {
   "cell_type": "code",
   "execution_count": 279,
   "metadata": {},
   "outputs": [
    {
     "data": {
      "text/html": [
       "<div>\n",
       "<style scoped>\n",
       "    .dataframe tbody tr th:only-of-type {\n",
       "        vertical-align: middle;\n",
       "    }\n",
       "\n",
       "    .dataframe tbody tr th {\n",
       "        vertical-align: top;\n",
       "    }\n",
       "\n",
       "    .dataframe thead th {\n",
       "        text-align: right;\n",
       "    }\n",
       "</style>\n",
       "<table border=\"1\" class=\"dataframe\">\n",
       "  <thead>\n",
       "    <tr style=\"text-align: right;\">\n",
       "      <th></th>\n",
       "      <th>order_id</th>\n",
       "      <th>evt_campaign_name</th>\n",
       "      <th>evt_date</th>\n",
       "      <th>SLS_Date</th>\n",
       "      <th>Brand</th>\n",
       "      <th>Campaign_Brand</th>\n",
       "      <th>EXT_RETL_AMT</th>\n",
       "      <th>Total_GDISC</th>\n",
       "      <th>units_sls</th>\n",
       "      <th>Conversion</th>\n",
       "      <th>Result</th>\n",
       "    </tr>\n",
       "  </thead>\n",
       "  <tbody>\n",
       "    <tr>\n",
       "      <th>0</th>\n",
       "      <td>155212188690</td>\n",
       "      <td>SocialMedia_P-VF-F_Vendor-Video-Milwaukee</td>\n",
       "      <td>2019-11-05</td>\n",
       "      <td>2019-11-15</td>\n",
       "      <td>TOWSMART</td>\n",
       "      <td>MILWAUKEE</td>\n",
       "      <td>9.47</td>\n",
       "      <td>0.00</td>\n",
       "      <td>1</td>\n",
       "      <td>0</td>\n",
       "      <td>Conversion</td>\n",
       "    </tr>\n",
       "    <tr>\n",
       "      <th>1</th>\n",
       "      <td>155212188690</td>\n",
       "      <td>SocialMedia_P-VF-F_Vendor-Video-Milwaukee</td>\n",
       "      <td>2019-11-05</td>\n",
       "      <td>2019-11-15</td>\n",
       "      <td>ENERGIZER</td>\n",
       "      <td>MILWAUKEE</td>\n",
       "      <td>7.28</td>\n",
       "      <td>0.00</td>\n",
       "      <td>1</td>\n",
       "      <td>0</td>\n",
       "      <td>Conversion</td>\n",
       "    </tr>\n",
       "    <tr>\n",
       "      <th>2</th>\n",
       "      <td>155212188690</td>\n",
       "      <td>SocialMedia_P-VF-F_Vendor-Video-Milwaukee</td>\n",
       "      <td>2019-11-05</td>\n",
       "      <td>2019-11-15</td>\n",
       "      <td>RAMSET</td>\n",
       "      <td>MILWAUKEE</td>\n",
       "      <td>18.97</td>\n",
       "      <td>-1.15</td>\n",
       "      <td>1</td>\n",
       "      <td>0</td>\n",
       "      <td>Conversion</td>\n",
       "    </tr>\n",
       "    <tr>\n",
       "      <th>3</th>\n",
       "      <td>155212188690</td>\n",
       "      <td>SocialMedia_P-VF-F_Vendor-Video-Milwaukee</td>\n",
       "      <td>2019-11-05</td>\n",
       "      <td>2019-11-15</td>\n",
       "      <td>MILWAUKEE</td>\n",
       "      <td>MILWAUKEE</td>\n",
       "      <td>100.00</td>\n",
       "      <td>-30.00</td>\n",
       "      <td>1</td>\n",
       "      <td>1</td>\n",
       "      <td>Conversion</td>\n",
       "    </tr>\n",
       "    <tr>\n",
       "      <th>4</th>\n",
       "      <td>155212188690</td>\n",
       "      <td>SocialMedia_P-VF-F_Vendor-Link-Milwaukee</td>\n",
       "      <td>2019-11-07</td>\n",
       "      <td>2019-11-15</td>\n",
       "      <td>TOWSMART</td>\n",
       "      <td>MILWAUKEE</td>\n",
       "      <td>9.47</td>\n",
       "      <td>0.00</td>\n",
       "      <td>1</td>\n",
       "      <td>0</td>\n",
       "      <td>Conversion</td>\n",
       "    </tr>\n",
       "  </tbody>\n",
       "</table>\n",
       "</div>"
      ],
      "text/plain": [
       "       order_id                          evt_campaign_name   evt_date  \\\n",
       "0  155212188690  SocialMedia_P-VF-F_Vendor-Video-Milwaukee 2019-11-05   \n",
       "1  155212188690  SocialMedia_P-VF-F_Vendor-Video-Milwaukee 2019-11-05   \n",
       "2  155212188690  SocialMedia_P-VF-F_Vendor-Video-Milwaukee 2019-11-05   \n",
       "3  155212188690  SocialMedia_P-VF-F_Vendor-Video-Milwaukee 2019-11-05   \n",
       "4  155212188690   SocialMedia_P-VF-F_Vendor-Link-Milwaukee 2019-11-07   \n",
       "\n",
       "    SLS_Date      Brand Campaign_Brand  EXT_RETL_AMT  Total_GDISC  units_sls  \\\n",
       "0 2019-11-15   TOWSMART      MILWAUKEE          9.47         0.00          1   \n",
       "1 2019-11-15  ENERGIZER      MILWAUKEE          7.28         0.00          1   \n",
       "2 2019-11-15     RAMSET      MILWAUKEE         18.97        -1.15          1   \n",
       "3 2019-11-15  MILWAUKEE      MILWAUKEE        100.00       -30.00          1   \n",
       "4 2019-11-15   TOWSMART      MILWAUKEE          9.47         0.00          1   \n",
       "\n",
       "   Conversion      Result  \n",
       "0           0  Conversion  \n",
       "1           0  Conversion  \n",
       "2           0  Conversion  \n",
       "3           1  Conversion  \n",
       "4           0  Conversion  "
      ]
     },
     "execution_count": 279,
     "metadata": {},
     "output_type": "execute_result"
    }
   ],
   "source": [
    "dataframe.head()"
   ]
  },
  {
   "cell_type": "code",
   "execution_count": 280,
   "metadata": {},
   "outputs": [
    {
     "data": {
      "text/html": [
       "<div>\n",
       "<style scoped>\n",
       "    .dataframe tbody tr th:only-of-type {\n",
       "        vertical-align: middle;\n",
       "    }\n",
       "\n",
       "    .dataframe tbody tr th {\n",
       "        vertical-align: top;\n",
       "    }\n",
       "\n",
       "    .dataframe thead th {\n",
       "        text-align: right;\n",
       "    }\n",
       "</style>\n",
       "<table border=\"1\" class=\"dataframe\">\n",
       "  <thead>\n",
       "    <tr style=\"text-align: right;\">\n",
       "      <th></th>\n",
       "      <th>order_id</th>\n",
       "      <th>evt_campaign_name</th>\n",
       "      <th>evt_date</th>\n",
       "      <th>SLS_Date</th>\n",
       "      <th>Brand</th>\n",
       "      <th>Campaign_Brand</th>\n",
       "      <th>EXT_RETL_AMT</th>\n",
       "      <th>Total_GDISC</th>\n",
       "      <th>units_sls</th>\n",
       "      <th>Conversion</th>\n",
       "      <th>Result</th>\n",
       "    </tr>\n",
       "  </thead>\n",
       "  <tbody>\n",
       "    <tr>\n",
       "      <th>0</th>\n",
       "      <td>155212188690</td>\n",
       "      <td>SocialMedia_P-VF-F_Vendor-Video-Milwaukee</td>\n",
       "      <td>2019-11-05</td>\n",
       "      <td>2019-11-15</td>\n",
       "      <td>TOWSMART</td>\n",
       "      <td>MILWAUKEE</td>\n",
       "      <td>9.47</td>\n",
       "      <td>0.00</td>\n",
       "      <td>1</td>\n",
       "      <td>0</td>\n",
       "      <td>Conversion</td>\n",
       "    </tr>\n",
       "    <tr>\n",
       "      <th>1</th>\n",
       "      <td>155212188690</td>\n",
       "      <td>SocialMedia_P-VF-F_Vendor-Video-Milwaukee</td>\n",
       "      <td>2019-11-05</td>\n",
       "      <td>2019-11-15</td>\n",
       "      <td>ENERGIZER</td>\n",
       "      <td>MILWAUKEE</td>\n",
       "      <td>7.28</td>\n",
       "      <td>0.00</td>\n",
       "      <td>1</td>\n",
       "      <td>0</td>\n",
       "      <td>Conversion</td>\n",
       "    </tr>\n",
       "    <tr>\n",
       "      <th>2</th>\n",
       "      <td>155212188690</td>\n",
       "      <td>SocialMedia_P-VF-F_Vendor-Video-Milwaukee</td>\n",
       "      <td>2019-11-05</td>\n",
       "      <td>2019-11-15</td>\n",
       "      <td>RAMSET</td>\n",
       "      <td>MILWAUKEE</td>\n",
       "      <td>18.97</td>\n",
       "      <td>-1.15</td>\n",
       "      <td>1</td>\n",
       "      <td>0</td>\n",
       "      <td>Conversion</td>\n",
       "    </tr>\n",
       "    <tr>\n",
       "      <th>3</th>\n",
       "      <td>155212188690</td>\n",
       "      <td>SocialMedia_P-VF-F_Vendor-Video-Milwaukee</td>\n",
       "      <td>2019-11-05</td>\n",
       "      <td>2019-11-15</td>\n",
       "      <td>MILWAUKEE</td>\n",
       "      <td>MILWAUKEE</td>\n",
       "      <td>100.00</td>\n",
       "      <td>-30.00</td>\n",
       "      <td>1</td>\n",
       "      <td>1</td>\n",
       "      <td>Conversion</td>\n",
       "    </tr>\n",
       "    <tr>\n",
       "      <th>4</th>\n",
       "      <td>155212188690</td>\n",
       "      <td>SocialMedia_P-VF-F_Vendor-Link-Milwaukee</td>\n",
       "      <td>2019-11-07</td>\n",
       "      <td>2019-11-15</td>\n",
       "      <td>TOWSMART</td>\n",
       "      <td>MILWAUKEE</td>\n",
       "      <td>9.47</td>\n",
       "      <td>0.00</td>\n",
       "      <td>1</td>\n",
       "      <td>0</td>\n",
       "      <td>Conversion</td>\n",
       "    </tr>\n",
       "  </tbody>\n",
       "</table>\n",
       "</div>"
      ],
      "text/plain": [
       "       order_id                          evt_campaign_name   evt_date  \\\n",
       "0  155212188690  SocialMedia_P-VF-F_Vendor-Video-Milwaukee 2019-11-05   \n",
       "1  155212188690  SocialMedia_P-VF-F_Vendor-Video-Milwaukee 2019-11-05   \n",
       "2  155212188690  SocialMedia_P-VF-F_Vendor-Video-Milwaukee 2019-11-05   \n",
       "3  155212188690  SocialMedia_P-VF-F_Vendor-Video-Milwaukee 2019-11-05   \n",
       "4  155212188690   SocialMedia_P-VF-F_Vendor-Link-Milwaukee 2019-11-07   \n",
       "\n",
       "    SLS_Date      Brand Campaign_Brand  EXT_RETL_AMT  Total_GDISC  units_sls  \\\n",
       "0 2019-11-15   TOWSMART      MILWAUKEE          9.47         0.00          1   \n",
       "1 2019-11-15  ENERGIZER      MILWAUKEE          7.28         0.00          1   \n",
       "2 2019-11-15     RAMSET      MILWAUKEE         18.97        -1.15          1   \n",
       "3 2019-11-15  MILWAUKEE      MILWAUKEE        100.00       -30.00          1   \n",
       "4 2019-11-15   TOWSMART      MILWAUKEE          9.47         0.00          1   \n",
       "\n",
       "   Conversion      Result  \n",
       "0           0  Conversion  \n",
       "1           0  Conversion  \n",
       "2           0  Conversion  \n",
       "3           1  Conversion  \n",
       "4           0  Conversion  "
      ]
     },
     "execution_count": 280,
     "metadata": {},
     "output_type": "execute_result"
    }
   ],
   "source": [
    "dataframe.head()"
   ]
  },
  {
   "cell_type": "markdown",
   "metadata": {},
   "source": [
    "Sorting the data based upon ***order_id*** and ***evt_date*** to get the order in which the touch points were made"
   ]
  },
  {
   "cell_type": "code",
   "execution_count": 281,
   "metadata": {},
   "outputs": [],
   "source": [
    "#Sorted values by evt_date for each order\n",
    "df_final = dataframe.sort_values(['order_id', 'evt_date'],\n",
    "                    ascending=[False, True])"
   ]
  },
  {
   "cell_type": "code",
   "execution_count": 282,
   "metadata": {},
   "outputs": [
    {
     "data": {
      "text/html": [
       "<div>\n",
       "<style scoped>\n",
       "    .dataframe tbody tr th:only-of-type {\n",
       "        vertical-align: middle;\n",
       "    }\n",
       "\n",
       "    .dataframe tbody tr th {\n",
       "        vertical-align: top;\n",
       "    }\n",
       "\n",
       "    .dataframe thead th {\n",
       "        text-align: right;\n",
       "    }\n",
       "</style>\n",
       "<table border=\"1\" class=\"dataframe\">\n",
       "  <thead>\n",
       "    <tr style=\"text-align: right;\">\n",
       "      <th></th>\n",
       "      <th>order_id</th>\n",
       "      <th>evt_campaign_name</th>\n",
       "      <th>evt_date</th>\n",
       "      <th>SLS_Date</th>\n",
       "      <th>Brand</th>\n",
       "      <th>Campaign_Brand</th>\n",
       "      <th>EXT_RETL_AMT</th>\n",
       "      <th>Total_GDISC</th>\n",
       "      <th>units_sls</th>\n",
       "      <th>Conversion</th>\n",
       "      <th>Result</th>\n",
       "    </tr>\n",
       "  </thead>\n",
       "  <tbody>\n",
       "    <tr>\n",
       "      <th>47</th>\n",
       "      <td>w846454289</td>\n",
       "      <td>SocialMedia_P-VF-F_Vendor-Video-Milwaukee</td>\n",
       "      <td>2019-12-20</td>\n",
       "      <td>2019-12-25</td>\n",
       "      <td>ZEP</td>\n",
       "      <td>MILWAUKEE</td>\n",
       "      <td>22.00</td>\n",
       "      <td>0.00</td>\n",
       "      <td>1</td>\n",
       "      <td>0</td>\n",
       "      <td>No Conversion</td>\n",
       "    </tr>\n",
       "    <tr>\n",
       "      <th>48</th>\n",
       "      <td>w846454289</td>\n",
       "      <td>SocialMedia_P-VF-F_Vendor-Video-Milwaukee</td>\n",
       "      <td>2019-12-20</td>\n",
       "      <td>2019-12-25</td>\n",
       "      <td>GREENCORE</td>\n",
       "      <td>MILWAUKEE</td>\n",
       "      <td>65.34</td>\n",
       "      <td>-11.38</td>\n",
       "      <td>1</td>\n",
       "      <td>0</td>\n",
       "      <td>No Conversion</td>\n",
       "    </tr>\n",
       "    <tr>\n",
       "      <th>49</th>\n",
       "      <td>w846454289</td>\n",
       "      <td>SocialMedia_P-VF-F_Vendor-Video-Milwaukee</td>\n",
       "      <td>2019-12-20</td>\n",
       "      <td>2019-12-25</td>\n",
       "      <td>3M</td>\n",
       "      <td>MILWAUKEE</td>\n",
       "      <td>44.00</td>\n",
       "      <td>0.00</td>\n",
       "      <td>1</td>\n",
       "      <td>0</td>\n",
       "      <td>No Conversion</td>\n",
       "    </tr>\n",
       "    <tr>\n",
       "      <th>41</th>\n",
       "      <td>w846454289</td>\n",
       "      <td>SocialMedia_P-VF-F_Vendor-FB-Milwaukee</td>\n",
       "      <td>2019-12-22</td>\n",
       "      <td>2019-12-25</td>\n",
       "      <td>ZEP</td>\n",
       "      <td>MILWAUKEE</td>\n",
       "      <td>22.00</td>\n",
       "      <td>0.00</td>\n",
       "      <td>1</td>\n",
       "      <td>0</td>\n",
       "      <td>No Conversion</td>\n",
       "    </tr>\n",
       "    <tr>\n",
       "      <th>42</th>\n",
       "      <td>w846454289</td>\n",
       "      <td>SocialMedia_P-VF-F_Vendor-FB-Milwaukee</td>\n",
       "      <td>2019-12-22</td>\n",
       "      <td>2019-12-25</td>\n",
       "      <td>GREENCORE</td>\n",
       "      <td>MILWAUKEE</td>\n",
       "      <td>65.34</td>\n",
       "      <td>-11.38</td>\n",
       "      <td>1</td>\n",
       "      <td>0</td>\n",
       "      <td>No Conversion</td>\n",
       "    </tr>\n",
       "  </tbody>\n",
       "</table>\n",
       "</div>"
      ],
      "text/plain": [
       "      order_id                          evt_campaign_name   evt_date  \\\n",
       "47  w846454289  SocialMedia_P-VF-F_Vendor-Video-Milwaukee 2019-12-20   \n",
       "48  w846454289  SocialMedia_P-VF-F_Vendor-Video-Milwaukee 2019-12-20   \n",
       "49  w846454289  SocialMedia_P-VF-F_Vendor-Video-Milwaukee 2019-12-20   \n",
       "41  w846454289     SocialMedia_P-VF-F_Vendor-FB-Milwaukee 2019-12-22   \n",
       "42  w846454289     SocialMedia_P-VF-F_Vendor-FB-Milwaukee 2019-12-22   \n",
       "\n",
       "     SLS_Date      Brand Campaign_Brand  EXT_RETL_AMT  Total_GDISC  units_sls  \\\n",
       "47 2019-12-25        ZEP      MILWAUKEE         22.00         0.00          1   \n",
       "48 2019-12-25  GREENCORE      MILWAUKEE         65.34       -11.38          1   \n",
       "49 2019-12-25         3M      MILWAUKEE         44.00         0.00          1   \n",
       "41 2019-12-25        ZEP      MILWAUKEE         22.00         0.00          1   \n",
       "42 2019-12-25  GREENCORE      MILWAUKEE         65.34       -11.38          1   \n",
       "\n",
       "    Conversion         Result  \n",
       "47           0  No Conversion  \n",
       "48           0  No Conversion  \n",
       "49           0  No Conversion  \n",
       "41           0  No Conversion  \n",
       "42           0  No Conversion  "
      ]
     },
     "execution_count": 282,
     "metadata": {},
     "output_type": "execute_result"
    }
   ],
   "source": [
    "df_final.head()"
   ]
  },
  {
   "cell_type": "markdown",
   "metadata": {},
   "source": [
    "For each order, putting all its unique sorted touchpoints into a list"
   ]
  },
  {
   "cell_type": "code",
   "execution_count": 283,
   "metadata": {},
   "outputs": [],
   "source": [
    "# df_paths = df_final.groupby(['order_id',\"Result\"])['evt_campaign_name'].aggregate(\n",
    "#     lambda x: x.unique().tolist()).reset_index()"
   ]
  },
  {
   "cell_type": "markdown",
   "metadata": {},
   "source": [
    "To get the unique appearance of the campaign name"
   ]
  },
  {
   "cell_type": "code",
   "execution_count": 284,
   "metadata": {},
   "outputs": [],
   "source": [
    "df_paths = df_final.groupby(['order_id',\"Result\"])['evt_campaign_name'].aggregate(\n",
    "    lambda x: x.drop_duplicates(keep='last').tolist()).reset_index()"
   ]
  },
  {
   "cell_type": "markdown",
   "metadata": {},
   "source": [
    "To get the unique **last** appearance of the campaign name"
   ]
  },
  {
   "cell_type": "code",
   "execution_count": 285,
   "metadata": {},
   "outputs": [
    {
     "data": {
      "text/html": [
       "<div>\n",
       "<style scoped>\n",
       "    .dataframe tbody tr th:only-of-type {\n",
       "        vertical-align: middle;\n",
       "    }\n",
       "\n",
       "    .dataframe tbody tr th {\n",
       "        vertical-align: top;\n",
       "    }\n",
       "\n",
       "    .dataframe thead th {\n",
       "        text-align: right;\n",
       "    }\n",
       "</style>\n",
       "<table border=\"1\" class=\"dataframe\">\n",
       "  <thead>\n",
       "    <tr style=\"text-align: right;\">\n",
       "      <th></th>\n",
       "      <th>order_id</th>\n",
       "      <th>Result</th>\n",
       "      <th>evt_campaign_name</th>\n",
       "    </tr>\n",
       "  </thead>\n",
       "  <tbody>\n",
       "    <tr>\n",
       "      <th>0</th>\n",
       "      <td>411007857</td>\n",
       "      <td>Conversion</td>\n",
       "      <td>[DynamicMedia|DPAM|REGT, SocialMedia_P-VF-F_Ve...</td>\n",
       "    </tr>\n",
       "    <tr>\n",
       "      <th>1</th>\n",
       "      <td>106118029560</td>\n",
       "      <td>Conversion</td>\n",
       "      <td>[SocialMedia_P-VF-F_Vendor-Video-Milwaukee, So...</td>\n",
       "    </tr>\n",
       "    <tr>\n",
       "      <th>2</th>\n",
       "      <td>155212188690</td>\n",
       "      <td>Conversion</td>\n",
       "      <td>[SocialMedia_P-VF-F_Vendor-Video-Milwaukee, So...</td>\n",
       "    </tr>\n",
       "    <tr>\n",
       "      <th>3</th>\n",
       "      <td>w846454289</td>\n",
       "      <td>No Conversion</td>\n",
       "      <td>[SocialMedia_P-VF-F_Vendor-Video-Milwaukee, So...</td>\n",
       "    </tr>\n",
       "  </tbody>\n",
       "</table>\n",
       "</div>"
      ],
      "text/plain": [
       "       order_id         Result  \\\n",
       "0     411007857     Conversion   \n",
       "1  106118029560     Conversion   \n",
       "2  155212188690     Conversion   \n",
       "3    w846454289  No Conversion   \n",
       "\n",
       "                                   evt_campaign_name  \n",
       "0  [DynamicMedia|DPAM|REGT, SocialMedia_P-VF-F_Ve...  \n",
       "1  [SocialMedia_P-VF-F_Vendor-Video-Milwaukee, So...  \n",
       "2  [SocialMedia_P-VF-F_Vendor-Video-Milwaukee, So...  \n",
       "3  [SocialMedia_P-VF-F_Vendor-Video-Milwaukee, So...  "
      ]
     },
     "execution_count": 285,
     "metadata": {},
     "output_type": "execute_result"
    }
   ],
   "source": [
    "df_paths"
   ]
  },
  {
   "cell_type": "code",
   "execution_count": 286,
   "metadata": {},
   "outputs": [
    {
     "name": "stdout",
     "output_type": "stream",
     "text": [
      "['DynamicMedia|DPAM|REGT', 'SocialMedia_P-VF-F_Vendor-FB-Milwaukee', 'SocialMedia_P-VF-F_Vendor-Link-Milwaukee'] \n",
      " \n",
      "['SocialMedia_P-VF-F_Vendor-Video-Milwaukee', 'SocialMedia_P-VF-F_Vendor-FB-Milwaukee', 'SocialMedia_P-VF-F_Vendor-IG-Milwaukee', 'SocialMedia_P-VF-F_Vendor-Carousel-Milwaukee'] \n",
      " \n",
      "['SocialMedia_P-VF-F_Vendor-Video-Milwaukee', 'SocialMedia_P-VF-F_Vendor-Link-Milwaukee', 'SocialMedia_P-VF-F_Vendor-FB-Milwaukee', 'SocialMedia_P-VF-F_Vendor-IG-Milwaukee'] \n",
      " \n",
      "['SocialMedia_P-VF-F_Vendor-Video-Milwaukee', 'SocialMedia_P-VF-F_Vendor-FB-Milwaukee', 'SocialMedia_P-VF-F_Vendor-Carousel-Milwaukee'] \n",
      " \n"
     ]
    }
   ],
   "source": [
    "for index, row in df_paths.iterrows():\n",
    "    print(row[\"evt_campaign_name\"],\"\\n \")"
   ]
  },
  {
   "cell_type": "code",
   "execution_count": 287,
   "metadata": {},
   "outputs": [],
   "source": [
    "# df_paths.to_clipboard(excel = True) "
   ]
  },
  {
   "cell_type": "markdown",
   "metadata": {},
   "source": [
    "## Adding Start and Conversion / No Conversion based upon the result into the path of each order"
   ]
  },
  {
   "cell_type": "code",
   "execution_count": 288,
   "metadata": {},
   "outputs": [
    {
     "data": {
      "text/plain": [
       "pandas.core.series.Series"
      ]
     },
     "execution_count": 288,
     "metadata": {},
     "output_type": "execute_result"
    }
   ],
   "source": [
    "# df_paths[\"evt_campaign_name\"].dtypes\n",
    "type(df_paths[\"evt_campaign_name\"])"
   ]
  },
  {
   "cell_type": "code",
   "execution_count": 289,
   "metadata": {},
   "outputs": [],
   "source": [
    "#to add START & CONVERSION/NO CONVERSION in the PATH based upon the result\n",
    "\n",
    "for index, row in df_paths.iterrows():\n",
    "    if(row[\"Result\"] == \"Conversion\"):\n",
    "        row[\"evt_campaign_name\"] = [\"Start\"] + row[\"evt_campaign_name\"] + [\"Conversion\"]\n",
    "    elif(row[\"Result\"] == \"No Conversion\"):\n",
    "        row[\"evt_campaign_name\"] = [\"Start\"] + row[\"evt_campaign_name\"] + [\"No Conversion\"]"
   ]
  },
  {
   "cell_type": "code",
   "execution_count": 290,
   "metadata": {},
   "outputs": [
    {
     "data": {
      "text/plain": [
       "pandas.core.series.Series"
      ]
     },
     "execution_count": 290,
     "metadata": {},
     "output_type": "execute_result"
    }
   ],
   "source": [
    "#checking the conversion paths flow for each order_id\n",
    "\n",
    "type(df_paths['evt_campaign_name'])"
   ]
  },
  {
   "cell_type": "code",
   "execution_count": 291,
   "metadata": {},
   "outputs": [
    {
     "data": {
      "text/html": [
       "<div>\n",
       "<style scoped>\n",
       "    .dataframe tbody tr th:only-of-type {\n",
       "        vertical-align: middle;\n",
       "    }\n",
       "\n",
       "    .dataframe tbody tr th {\n",
       "        vertical-align: top;\n",
       "    }\n",
       "\n",
       "    .dataframe thead th {\n",
       "        text-align: right;\n",
       "    }\n",
       "</style>\n",
       "<table border=\"1\" class=\"dataframe\">\n",
       "  <thead>\n",
       "    <tr style=\"text-align: right;\">\n",
       "      <th></th>\n",
       "      <th>order_id</th>\n",
       "      <th>Result</th>\n",
       "      <th>evt_campaign_name</th>\n",
       "    </tr>\n",
       "  </thead>\n",
       "  <tbody>\n",
       "    <tr>\n",
       "      <th>0</th>\n",
       "      <td>411007857</td>\n",
       "      <td>Conversion</td>\n",
       "      <td>[Start, DynamicMedia|DPAM|REGT, SocialMedia_P-...</td>\n",
       "    </tr>\n",
       "    <tr>\n",
       "      <th>1</th>\n",
       "      <td>106118029560</td>\n",
       "      <td>Conversion</td>\n",
       "      <td>[Start, SocialMedia_P-VF-F_Vendor-Video-Milwau...</td>\n",
       "    </tr>\n",
       "    <tr>\n",
       "      <th>2</th>\n",
       "      <td>155212188690</td>\n",
       "      <td>Conversion</td>\n",
       "      <td>[Start, SocialMedia_P-VF-F_Vendor-Video-Milwau...</td>\n",
       "    </tr>\n",
       "    <tr>\n",
       "      <th>3</th>\n",
       "      <td>w846454289</td>\n",
       "      <td>No Conversion</td>\n",
       "      <td>[Start, SocialMedia_P-VF-F_Vendor-Video-Milwau...</td>\n",
       "    </tr>\n",
       "  </tbody>\n",
       "</table>\n",
       "</div>"
      ],
      "text/plain": [
       "       order_id         Result  \\\n",
       "0     411007857     Conversion   \n",
       "1  106118029560     Conversion   \n",
       "2  155212188690     Conversion   \n",
       "3    w846454289  No Conversion   \n",
       "\n",
       "                                   evt_campaign_name  \n",
       "0  [Start, DynamicMedia|DPAM|REGT, SocialMedia_P-...  \n",
       "1  [Start, SocialMedia_P-VF-F_Vendor-Video-Milwau...  \n",
       "2  [Start, SocialMedia_P-VF-F_Vendor-Video-Milwau...  \n",
       "3  [Start, SocialMedia_P-VF-F_Vendor-Video-Milwau...  "
      ]
     },
     "execution_count": 291,
     "metadata": {},
     "output_type": "execute_result"
    }
   ],
   "source": [
    "df_paths"
   ]
  },
  {
   "cell_type": "markdown",
   "metadata": {},
   "source": [
    " > Checking if all the campaign names are in particular arrangement (*according to dates*)"
   ]
  },
  {
   "cell_type": "code",
   "execution_count": 292,
   "metadata": {
    "scrolled": false
   },
   "outputs": [
    {
     "name": "stdout",
     "output_type": "stream",
     "text": [
      "['Start', 'DynamicMedia|DPAM|REGT', 'SocialMedia_P-VF-F_Vendor-FB-Milwaukee', 'SocialMedia_P-VF-F_Vendor-Link-Milwaukee', 'Conversion'] \n",
      " \n",
      "['Start', 'SocialMedia_P-VF-F_Vendor-Video-Milwaukee', 'SocialMedia_P-VF-F_Vendor-FB-Milwaukee', 'SocialMedia_P-VF-F_Vendor-IG-Milwaukee', 'SocialMedia_P-VF-F_Vendor-Carousel-Milwaukee', 'Conversion'] \n",
      " \n",
      "['Start', 'SocialMedia_P-VF-F_Vendor-Video-Milwaukee', 'SocialMedia_P-VF-F_Vendor-Link-Milwaukee', 'SocialMedia_P-VF-F_Vendor-FB-Milwaukee', 'SocialMedia_P-VF-F_Vendor-IG-Milwaukee', 'Conversion'] \n",
      " \n",
      "['Start', 'SocialMedia_P-VF-F_Vendor-Video-Milwaukee', 'SocialMedia_P-VF-F_Vendor-FB-Milwaukee', 'SocialMedia_P-VF-F_Vendor-Carousel-Milwaukee', 'No Conversion'] \n",
      " \n"
     ]
    }
   ],
   "source": [
    "for index, row in df_paths.iterrows():\n",
    "    print(row[\"evt_campaign_name\"],\"\\n \")"
   ]
  },
  {
   "cell_type": "code",
   "execution_count": 293,
   "metadata": {},
   "outputs": [],
   "source": [
    "# df_paths[\"evt_campaign_name\"]"
   ]
  },
  {
   "cell_type": "markdown",
   "metadata": {},
   "source": [
    "## Calculating number of **Conversion** and **Base Conversion Rate**"
   ]
  },
  {
   "cell_type": "code",
   "execution_count": 294,
   "metadata": {},
   "outputs": [
    {
     "name": "stdout",
     "output_type": "stream",
     "text": [
      "The total number of conversions are :  3  & Total base conversion rate is :  0.75\n"
     ]
    }
   ],
   "source": [
    "list_of_paths = df_paths['evt_campaign_name']\n",
    "total_conversions = sum(path.count('Conversion') for path in df_paths['evt_campaign_name'].tolist())\n",
    "base_conversion_rate = total_conversions / len(list_of_paths)\n",
    "print(\"The total number of conversions are : \", total_conversions, \" & Total base conversion rate is : \", base_conversion_rate)"
   ]
  },
  {
   "cell_type": "code",
   "execution_count": 295,
   "metadata": {},
   "outputs": [],
   "source": [
    "# for path in df_paths[\"evt_campaign_name\"].tolist():\n",
    "#     print(path)\n",
    "#     print(path.count('Conversion'))"
   ]
  },
  {
   "cell_type": "code",
   "execution_count": 296,
   "metadata": {},
   "outputs": [
    {
     "data": {
      "text/plain": [
       "0    [Start, DynamicMedia|DPAM|REGT, SocialMedia_P-...\n",
       "1    [Start, SocialMedia_P-VF-F_Vendor-Video-Milwau...\n",
       "2    [Start, SocialMedia_P-VF-F_Vendor-Video-Milwau...\n",
       "3    [Start, SocialMedia_P-VF-F_Vendor-Video-Milwau...\n",
       "Name: evt_campaign_name, dtype: object"
      ]
     },
     "execution_count": 296,
     "metadata": {},
     "output_type": "execute_result"
    }
   ],
   "source": [
    "list_of_paths"
   ]
  },
  {
   "cell_type": "markdown",
   "metadata": {},
   "source": [
    "## Method to define all the Transition States and number of orders moving through that path"
   ]
  },
  {
   "cell_type": "code",
   "execution_count": 297,
   "metadata": {},
   "outputs": [],
   "source": [
    "def transition_states(list_of_paths):\n",
    "    list_of_unique_channels = set(x for element in list_of_paths for x in element)\n",
    "#     print(list_of_unique_channels)\n",
    "    transition_states = {x + '>' + y: 0 for x in list_of_unique_channels for y in list_of_unique_channels}\n",
    "\n",
    "    for possible_state in list_of_unique_channels:\n",
    "        if possible_state not in ['Conversion', 'No Conversion']:\n",
    "            for user_path in list_of_paths:\n",
    "                if possible_state in user_path:\n",
    "                    indices = [i for i, s in enumerate(user_path) if possible_state in s]\n",
    "                    for col in indices:\n",
    "                        transition_states[user_path[col] + '>' + user_path[col + 1]] += 1\n",
    "\n",
    "    return transition_states\n",
    "\n",
    "trans_states = transition_states(list_of_paths)"
   ]
  },
  {
   "cell_type": "code",
   "execution_count": 298,
   "metadata": {},
   "outputs": [],
   "source": [
    "# trans_states"
   ]
  },
  {
   "cell_type": "markdown",
   "metadata": {},
   "source": [
    "## Calculating Transition Probabilities between all possible transition states "
   ]
  },
  {
   "cell_type": "code",
   "execution_count": 299,
   "metadata": {},
   "outputs": [],
   "source": [
    "def transition_prob(trans_dict):\n",
    "    list_of_unique_channels = set(x for element in list_of_paths for x in element)\n",
    "    trans_prob = defaultdict(dict)\n",
    "    for state in list_of_unique_channels:\n",
    "        if state not in ['Conversion', 'No Conversion']:\n",
    "            counter = 0\n",
    "            index = [i for i, s in enumerate(trans_dict) if state + '>' in s]\n",
    "            for col in index:\n",
    "                if trans_dict[list(trans_dict)[col]] > 0:\n",
    "                    counter += trans_dict[list(trans_dict)[col]]\n",
    "            for col in index:\n",
    "                if trans_dict[list(trans_dict)[col]] > 0:\n",
    "                    state_prob = float((trans_dict[list(trans_dict)[col]])) / float(counter)\n",
    "                    trans_prob[list(trans_dict)[col]] = state_prob\n",
    "\n",
    "    return trans_prob\n",
    "\n",
    "\n",
    "trans_prob = transition_prob(trans_states)"
   ]
  },
  {
   "cell_type": "code",
   "execution_count": 300,
   "metadata": {},
   "outputs": [
    {
     "data": {
      "text/plain": [
       "defaultdict(dict,\n",
       "            {'Start>SocialMedia_P-VF-F_Vendor-Video-Milwaukee': 0.75,\n",
       "             'Start>DynamicMedia|DPAM|REGT': 0.25,\n",
       "             'SocialMedia_P-VF-F_Vendor-Carousel-Milwaukee>Conversion': 0.5,\n",
       "             'SocialMedia_P-VF-F_Vendor-Carousel-Milwaukee>No Conversion': 0.5,\n",
       "             'SocialMedia_P-VF-F_Vendor-IG-Milwaukee>SocialMedia_P-VF-F_Vendor-Carousel-Milwaukee': 0.5,\n",
       "             'SocialMedia_P-VF-F_Vendor-IG-Milwaukee>Conversion': 0.5,\n",
       "             'SocialMedia_P-VF-F_Vendor-Video-Milwaukee>SocialMedia_P-VF-F_Vendor-FB-Milwaukee': 0.6666666666666666,\n",
       "             'SocialMedia_P-VF-F_Vendor-Video-Milwaukee>SocialMedia_P-VF-F_Vendor-Link-Milwaukee': 0.3333333333333333,\n",
       "             'SocialMedia_P-VF-F_Vendor-FB-Milwaukee>SocialMedia_P-VF-F_Vendor-Carousel-Milwaukee': 0.25,\n",
       "             'SocialMedia_P-VF-F_Vendor-FB-Milwaukee>SocialMedia_P-VF-F_Vendor-IG-Milwaukee': 0.5,\n",
       "             'SocialMedia_P-VF-F_Vendor-FB-Milwaukee>SocialMedia_P-VF-F_Vendor-Link-Milwaukee': 0.25,\n",
       "             'SocialMedia_P-VF-F_Vendor-Link-Milwaukee>Conversion': 0.5,\n",
       "             'SocialMedia_P-VF-F_Vendor-Link-Milwaukee>SocialMedia_P-VF-F_Vendor-FB-Milwaukee': 0.5,\n",
       "             'DynamicMedia|DPAM|REGT>SocialMedia_P-VF-F_Vendor-FB-Milwaukee': 1.0})"
      ]
     },
     "execution_count": 300,
     "metadata": {},
     "output_type": "execute_result"
    }
   ],
   "source": [
    "trans_prob"
   ]
  },
  {
   "cell_type": "markdown",
   "metadata": {},
   "source": [
    "\n",
    "> **Note:** Above code will get us all the transitional probabilities between states where transition is possible\n"
   ]
  },
  {
   "cell_type": "markdown",
   "metadata": {},
   "source": [
    "## Creating Transition Matrix between states"
   ]
  },
  {
   "cell_type": "code",
   "execution_count": 301,
   "metadata": {},
   "outputs": [],
   "source": [
    "def transition_matrix(list_of_paths, transition_probabilities):\n",
    "    trans_matrix = pd.DataFrame()\n",
    "    list_of_unique_channels = set(x for element in list_of_paths for x in element)\n",
    "\n",
    "    for channel in list_of_unique_channels:\n",
    "        trans_matrix[channel] = 0.00\n",
    "        trans_matrix.loc[channel] = 0.00\n",
    "        trans_matrix.loc[channel][channel] = 1.0 if channel in ['Conversion', 'No Conversion'] else 0.0\n",
    "\n",
    "    for key, value in transition_probabilities.items():\n",
    "        origin, destination = key.split('>')\n",
    "        trans_matrix.at[origin, destination] = value\n",
    "\n",
    "    return trans_matrix\n",
    "\n",
    "\n",
    "trans_matrix = transition_matrix(list_of_paths, trans_prob)"
   ]
  },
  {
   "cell_type": "code",
   "execution_count": 302,
   "metadata": {},
   "outputs": [
    {
     "data": {
      "text/html": [
       "<div>\n",
       "<style scoped>\n",
       "    .dataframe tbody tr th:only-of-type {\n",
       "        vertical-align: middle;\n",
       "    }\n",
       "\n",
       "    .dataframe tbody tr th {\n",
       "        vertical-align: top;\n",
       "    }\n",
       "\n",
       "    .dataframe thead th {\n",
       "        text-align: right;\n",
       "    }\n",
       "</style>\n",
       "<table border=\"1\" class=\"dataframe\">\n",
       "  <thead>\n",
       "    <tr style=\"text-align: right;\">\n",
       "      <th></th>\n",
       "      <th>Start</th>\n",
       "      <th>SocialMedia_P-VF-F_Vendor-Carousel-Milwaukee</th>\n",
       "      <th>SocialMedia_P-VF-F_Vendor-IG-Milwaukee</th>\n",
       "      <th>Conversion</th>\n",
       "      <th>No Conversion</th>\n",
       "      <th>SocialMedia_P-VF-F_Vendor-Video-Milwaukee</th>\n",
       "      <th>SocialMedia_P-VF-F_Vendor-FB-Milwaukee</th>\n",
       "      <th>SocialMedia_P-VF-F_Vendor-Link-Milwaukee</th>\n",
       "      <th>DynamicMedia|DPAM|REGT</th>\n",
       "    </tr>\n",
       "  </thead>\n",
       "  <tbody>\n",
       "    <tr>\n",
       "      <th>Start</th>\n",
       "      <td>0.0</td>\n",
       "      <td>0.00</td>\n",
       "      <td>0.0</td>\n",
       "      <td>0.0</td>\n",
       "      <td>0.0</td>\n",
       "      <td>0.75</td>\n",
       "      <td>0.000000</td>\n",
       "      <td>0.000000</td>\n",
       "      <td>0.25</td>\n",
       "    </tr>\n",
       "    <tr>\n",
       "      <th>SocialMedia_P-VF-F_Vendor-Carousel-Milwaukee</th>\n",
       "      <td>0.0</td>\n",
       "      <td>0.00</td>\n",
       "      <td>0.0</td>\n",
       "      <td>0.5</td>\n",
       "      <td>0.5</td>\n",
       "      <td>0.00</td>\n",
       "      <td>0.000000</td>\n",
       "      <td>0.000000</td>\n",
       "      <td>0.00</td>\n",
       "    </tr>\n",
       "    <tr>\n",
       "      <th>SocialMedia_P-VF-F_Vendor-IG-Milwaukee</th>\n",
       "      <td>0.0</td>\n",
       "      <td>0.50</td>\n",
       "      <td>0.0</td>\n",
       "      <td>0.5</td>\n",
       "      <td>0.0</td>\n",
       "      <td>0.00</td>\n",
       "      <td>0.000000</td>\n",
       "      <td>0.000000</td>\n",
       "      <td>0.00</td>\n",
       "    </tr>\n",
       "    <tr>\n",
       "      <th>Conversion</th>\n",
       "      <td>0.0</td>\n",
       "      <td>0.00</td>\n",
       "      <td>0.0</td>\n",
       "      <td>1.0</td>\n",
       "      <td>0.0</td>\n",
       "      <td>0.00</td>\n",
       "      <td>0.000000</td>\n",
       "      <td>0.000000</td>\n",
       "      <td>0.00</td>\n",
       "    </tr>\n",
       "    <tr>\n",
       "      <th>No Conversion</th>\n",
       "      <td>0.0</td>\n",
       "      <td>0.00</td>\n",
       "      <td>0.0</td>\n",
       "      <td>0.0</td>\n",
       "      <td>1.0</td>\n",
       "      <td>0.00</td>\n",
       "      <td>0.000000</td>\n",
       "      <td>0.000000</td>\n",
       "      <td>0.00</td>\n",
       "    </tr>\n",
       "    <tr>\n",
       "      <th>SocialMedia_P-VF-F_Vendor-Video-Milwaukee</th>\n",
       "      <td>0.0</td>\n",
       "      <td>0.00</td>\n",
       "      <td>0.0</td>\n",
       "      <td>0.0</td>\n",
       "      <td>0.0</td>\n",
       "      <td>0.00</td>\n",
       "      <td>0.666667</td>\n",
       "      <td>0.333333</td>\n",
       "      <td>0.00</td>\n",
       "    </tr>\n",
       "    <tr>\n",
       "      <th>SocialMedia_P-VF-F_Vendor-FB-Milwaukee</th>\n",
       "      <td>0.0</td>\n",
       "      <td>0.25</td>\n",
       "      <td>0.5</td>\n",
       "      <td>0.0</td>\n",
       "      <td>0.0</td>\n",
       "      <td>0.00</td>\n",
       "      <td>0.000000</td>\n",
       "      <td>0.250000</td>\n",
       "      <td>0.00</td>\n",
       "    </tr>\n",
       "    <tr>\n",
       "      <th>SocialMedia_P-VF-F_Vendor-Link-Milwaukee</th>\n",
       "      <td>0.0</td>\n",
       "      <td>0.00</td>\n",
       "      <td>0.0</td>\n",
       "      <td>0.5</td>\n",
       "      <td>0.0</td>\n",
       "      <td>0.00</td>\n",
       "      <td>0.500000</td>\n",
       "      <td>0.000000</td>\n",
       "      <td>0.00</td>\n",
       "    </tr>\n",
       "    <tr>\n",
       "      <th>DynamicMedia|DPAM|REGT</th>\n",
       "      <td>0.0</td>\n",
       "      <td>0.00</td>\n",
       "      <td>0.0</td>\n",
       "      <td>0.0</td>\n",
       "      <td>0.0</td>\n",
       "      <td>0.00</td>\n",
       "      <td>1.000000</td>\n",
       "      <td>0.000000</td>\n",
       "      <td>0.00</td>\n",
       "    </tr>\n",
       "  </tbody>\n",
       "</table>\n",
       "</div>"
      ],
      "text/plain": [
       "                                              Start  \\\n",
       "Start                                           0.0   \n",
       "SocialMedia_P-VF-F_Vendor-Carousel-Milwaukee    0.0   \n",
       "SocialMedia_P-VF-F_Vendor-IG-Milwaukee          0.0   \n",
       "Conversion                                      0.0   \n",
       "No Conversion                                   0.0   \n",
       "SocialMedia_P-VF-F_Vendor-Video-Milwaukee       0.0   \n",
       "SocialMedia_P-VF-F_Vendor-FB-Milwaukee          0.0   \n",
       "SocialMedia_P-VF-F_Vendor-Link-Milwaukee        0.0   \n",
       "DynamicMedia|DPAM|REGT                          0.0   \n",
       "\n",
       "                                              SocialMedia_P-VF-F_Vendor-Carousel-Milwaukee  \\\n",
       "Start                                                                                 0.00   \n",
       "SocialMedia_P-VF-F_Vendor-Carousel-Milwaukee                                          0.00   \n",
       "SocialMedia_P-VF-F_Vendor-IG-Milwaukee                                                0.50   \n",
       "Conversion                                                                            0.00   \n",
       "No Conversion                                                                         0.00   \n",
       "SocialMedia_P-VF-F_Vendor-Video-Milwaukee                                             0.00   \n",
       "SocialMedia_P-VF-F_Vendor-FB-Milwaukee                                                0.25   \n",
       "SocialMedia_P-VF-F_Vendor-Link-Milwaukee                                              0.00   \n",
       "DynamicMedia|DPAM|REGT                                                                0.00   \n",
       "\n",
       "                                              SocialMedia_P-VF-F_Vendor-IG-Milwaukee  \\\n",
       "Start                                                                            0.0   \n",
       "SocialMedia_P-VF-F_Vendor-Carousel-Milwaukee                                     0.0   \n",
       "SocialMedia_P-VF-F_Vendor-IG-Milwaukee                                           0.0   \n",
       "Conversion                                                                       0.0   \n",
       "No Conversion                                                                    0.0   \n",
       "SocialMedia_P-VF-F_Vendor-Video-Milwaukee                                        0.0   \n",
       "SocialMedia_P-VF-F_Vendor-FB-Milwaukee                                           0.5   \n",
       "SocialMedia_P-VF-F_Vendor-Link-Milwaukee                                         0.0   \n",
       "DynamicMedia|DPAM|REGT                                                           0.0   \n",
       "\n",
       "                                              Conversion  No Conversion  \\\n",
       "Start                                                0.0            0.0   \n",
       "SocialMedia_P-VF-F_Vendor-Carousel-Milwaukee         0.5            0.5   \n",
       "SocialMedia_P-VF-F_Vendor-IG-Milwaukee               0.5            0.0   \n",
       "Conversion                                           1.0            0.0   \n",
       "No Conversion                                        0.0            1.0   \n",
       "SocialMedia_P-VF-F_Vendor-Video-Milwaukee            0.0            0.0   \n",
       "SocialMedia_P-VF-F_Vendor-FB-Milwaukee               0.0            0.0   \n",
       "SocialMedia_P-VF-F_Vendor-Link-Milwaukee             0.5            0.0   \n",
       "DynamicMedia|DPAM|REGT                               0.0            0.0   \n",
       "\n",
       "                                              SocialMedia_P-VF-F_Vendor-Video-Milwaukee  \\\n",
       "Start                                                                              0.75   \n",
       "SocialMedia_P-VF-F_Vendor-Carousel-Milwaukee                                       0.00   \n",
       "SocialMedia_P-VF-F_Vendor-IG-Milwaukee                                             0.00   \n",
       "Conversion                                                                         0.00   \n",
       "No Conversion                                                                      0.00   \n",
       "SocialMedia_P-VF-F_Vendor-Video-Milwaukee                                          0.00   \n",
       "SocialMedia_P-VF-F_Vendor-FB-Milwaukee                                             0.00   \n",
       "SocialMedia_P-VF-F_Vendor-Link-Milwaukee                                           0.00   \n",
       "DynamicMedia|DPAM|REGT                                                             0.00   \n",
       "\n",
       "                                              SocialMedia_P-VF-F_Vendor-FB-Milwaukee  \\\n",
       "Start                                                                       0.000000   \n",
       "SocialMedia_P-VF-F_Vendor-Carousel-Milwaukee                                0.000000   \n",
       "SocialMedia_P-VF-F_Vendor-IG-Milwaukee                                      0.000000   \n",
       "Conversion                                                                  0.000000   \n",
       "No Conversion                                                               0.000000   \n",
       "SocialMedia_P-VF-F_Vendor-Video-Milwaukee                                   0.666667   \n",
       "SocialMedia_P-VF-F_Vendor-FB-Milwaukee                                      0.000000   \n",
       "SocialMedia_P-VF-F_Vendor-Link-Milwaukee                                    0.500000   \n",
       "DynamicMedia|DPAM|REGT                                                      1.000000   \n",
       "\n",
       "                                              SocialMedia_P-VF-F_Vendor-Link-Milwaukee  \\\n",
       "Start                                                                         0.000000   \n",
       "SocialMedia_P-VF-F_Vendor-Carousel-Milwaukee                                  0.000000   \n",
       "SocialMedia_P-VF-F_Vendor-IG-Milwaukee                                        0.000000   \n",
       "Conversion                                                                    0.000000   \n",
       "No Conversion                                                                 0.000000   \n",
       "SocialMedia_P-VF-F_Vendor-Video-Milwaukee                                     0.333333   \n",
       "SocialMedia_P-VF-F_Vendor-FB-Milwaukee                                        0.250000   \n",
       "SocialMedia_P-VF-F_Vendor-Link-Milwaukee                                      0.000000   \n",
       "DynamicMedia|DPAM|REGT                                                        0.000000   \n",
       "\n",
       "                                              DynamicMedia|DPAM|REGT  \n",
       "Start                                                           0.25  \n",
       "SocialMedia_P-VF-F_Vendor-Carousel-Milwaukee                    0.00  \n",
       "SocialMedia_P-VF-F_Vendor-IG-Milwaukee                          0.00  \n",
       "Conversion                                                      0.00  \n",
       "No Conversion                                                   0.00  \n",
       "SocialMedia_P-VF-F_Vendor-Video-Milwaukee                       0.00  \n",
       "SocialMedia_P-VF-F_Vendor-FB-Milwaukee                          0.00  \n",
       "SocialMedia_P-VF-F_Vendor-Link-Milwaukee                        0.00  \n",
       "DynamicMedia|DPAM|REGT                                          0.00  "
      ]
     },
     "execution_count": 302,
     "metadata": {},
     "output_type": "execute_result"
    }
   ],
   "source": [
    "trans_matrix"
   ]
  },
  {
   "cell_type": "markdown",
   "metadata": {},
   "source": [
    "## Plotting Heat Map of Transition Matrix"
   ]
  },
  {
   "cell_type": "code",
   "execution_count": 313,
   "metadata": {},
   "outputs": [
    {
     "data": {
      "text/plain": [
       "Text(0.5, 1, 'Transition Matrix')"
      ]
     },
     "execution_count": 313,
     "metadata": {},
     "output_type": "execute_result"
    },
    {
     "data": {
      "image/png": "[encoded data removed]",
      "text/plain": [
       "<Figure size 1440x720 with 2 Axes>"
      ]
     },
     "metadata": {
      "needs_background": "light"
     },
     "output_type": "display_data"
    }
   ],
   "source": [
    "plt.subplots(figsize=(20,10))\n",
    "ax = sns.heatmap(trans_matrix, annot = True)\n",
    "ax.set_title(\"Transition Matrix\")"
   ]
  },
  {
   "cell_type": "markdown",
   "metadata": {},
   "source": [
    "## Calculating the Removal Effect  for each channel"
   ]
  },
  {
   "cell_type": "code",
   "execution_count": 306,
   "metadata": {},
   "outputs": [],
   "source": [
    "def removal_effects(df, conversion_rate):\n",
    "    removal_effects_dict = {}\n",
    "    channels = [channel for channel in df.columns if channel not in ['Start',\n",
    "                                                                     'No Conversion',\n",
    "                                                                     'Conversion']]\n",
    "#     print(channels)\n",
    "    for channel in channels:\n",
    "        removal_df = df.drop(channel, axis=1).drop(channel, axis=0)\n",
    "#         print(removal_df)\n",
    "        for column in removal_df.columns:\n",
    "            row_sum = np.sum(list(removal_df.loc[column]))\n",
    "            null_pct = float(1) - row_sum\n",
    "            if null_pct != 0:\n",
    "                removal_df.loc[column]['No Conversion'] = null_pct\n",
    "            removal_df.loc['No Conversion']['No Conversion'] = 1.0\n",
    "\n",
    "        removal_to_conv = removal_df[\n",
    "            ['No Conversion', 'Conversion']].drop(['No Conversion', 'Conversion'], axis=0)\n",
    "        removal_to_non_conv = removal_df.drop(\n",
    "            ['No Conversion', 'Conversion'], axis=1).drop(['No Conversion', 'Conversion'], axis=0)\n",
    "\n",
    "        removal_inv_diff = np.linalg.inv(\n",
    "            np.identity(\n",
    "                len(removal_to_non_conv.columns)) - np.asarray(removal_to_non_conv))\n",
    "        removal_dot_prod = np.dot(removal_inv_diff, np.asarray(removal_to_conv))\n",
    "        removal_cvr = pd.DataFrame(removal_dot_prod,\n",
    "                                   index=removal_to_conv.index)[[1]].loc['Start'].values[0]\n",
    "#         print(removal_cvr,\"\\n\")\n",
    "#         print(conversion_rate)\n",
    "        removal_effect = 1 - removal_cvr / conversion_rate\n",
    "        removal_effects_dict[channel] = removal_effect\n",
    "\n",
    "    return removal_effects_dict\n",
    "\n",
    "\n",
    "removal_effects_dict = removal_effects(trans_matrix, base_conversion_rate)"
   ]
  },
  {
   "cell_type": "markdown",
   "metadata": {},
   "source": [
    "## Base Conversion Rate"
   ]
  },
  {
   "cell_type": "markdown",
   "metadata": {},
   "source": [
    "\n",
    "> **Note:** Calculating the Base Conversion Rate by considering all the possible paths to conversion \n"
   ]
  },
  {
   "cell_type": "code",
   "execution_count": 319,
   "metadata": {},
   "outputs": [
    {
     "name": "stdout",
     "output_type": "stream",
     "text": [
      "0.75\n"
     ]
    }
   ],
   "source": [
    "removal_df = trans_matrix[:]\n",
    "# removal_df = df.drop(['Start','Conversion','No Conversion'], axis=1).drop(['Start','Conversion','No Conversion'], axis=0)\n",
    "for column in removal_df.columns:\n",
    "    row_sum = np.sum(list(removal_df.loc[column]))\n",
    "#     print(row_sum)\n",
    "    null_pct = float(1) - row_sum\n",
    "#     print(null_pct)\n",
    "    if null_pct != 0:\n",
    "        removal_df.loc[column]['No Conversion'] = null_pct\n",
    "    removal_df.loc['No Conversion']['No Conversion'] = 1.0\n",
    "\n",
    "removal_to_conv = removal_df[\n",
    "    ['No Conversion', 'Conversion']].drop(['No Conversion', 'Conversion'], axis=0)\n",
    "# print(removal_to_conv)\n",
    "removal_to_non_conv = removal_df.drop(\n",
    "    ['No Conversion', 'Conversion'], axis=1).drop(['No Conversion', 'Conversion'], axis=0)\n",
    "# print(removal_to_non_conv)\n",
    "removal_inv_diff = np.linalg.inv(\n",
    "    np.identity(\n",
    "        len(removal_to_non_conv.columns)) - np.asarray(removal_to_non_conv))\n",
    "removal_dot_prod = np.dot(removal_inv_diff, np.asarray(removal_to_conv))\n",
    "removal_cvr = pd.DataFrame(removal_dot_prod,\n",
    "                           index=removal_to_conv.index)[[1]].loc['Start'].values[0]\n",
    "print(removal_cvr)"
   ]
  },
  {
   "cell_type": "code",
   "execution_count": 220,
   "metadata": {},
   "outputs": [
    {
     "data": {
      "text/plain": [
       "{'SocialMedia_P-VF-F_Vendor-Carousel-Milwaukee': 0.33333333333333337,\n",
       " 'SocialMedia_P-VF-F_Vendor-IG-Milwaukee': 0.5,\n",
       " 'SocialMedia_P-VF-F_Vendor-Video-Milwaukee': 0.763888888888889,\n",
       " 'SocialMedia_P-VF-F_Vendor-FB-Milwaukee': 0.7083333333333333,\n",
       " 'SocialMedia_P-VF-F_Vendor-Link-Milwaukee': 0.5833333333333333,\n",
       " 'DynamicMedia|DPAM|REGT': 0.23611111111111116}"
      ]
     },
     "execution_count": 220,
     "metadata": {},
     "output_type": "execute_result"
    }
   ],
   "source": [
    "removal_effects_dict"
   ]
  },
  {
   "cell_type": "markdown",
   "metadata": {},
   "source": [
    "## Attributed Weights given to each channel based upon the Removal Effect"
   ]
  },
  {
   "cell_type": "code",
   "execution_count": 191,
   "metadata": {},
   "outputs": [],
   "source": [
    "def markov_chain_allocations(removal_effects, total_conversions):\n",
    "    re_sum = np.sum(list(removal_effects.values()))\n",
    "#     print(re_sum)\n",
    "\n",
    "    return {k: (v / re_sum) for k, v in removal_effects.items()}\n",
    "\n",
    "\n",
    "attributions = markov_chain_allocations(removal_effects_dict, total_conversions)"
   ]
  },
  {
   "cell_type": "markdown",
   "metadata": {},
   "source": [
    "\n",
    "> **Note:** Sum of all the Removal Effect given is equal to 3.1666666\n"
   ]
  },
  {
   "cell_type": "code",
   "execution_count": 192,
   "metadata": {},
   "outputs": [
    {
     "data": {
      "text/plain": [
       "{'SocialMedia_P-VF-F_Vendor-Carousel-Milwaukee': 0.10666666666666669,\n",
       " 'SocialMedia_P-VF-F_Vendor-IG-Milwaukee': 0.16000000000000003,\n",
       " 'SocialMedia_P-VF-F_Vendor-Video-Milwaukee': 0.2444444444444445,\n",
       " 'SocialMedia_P-VF-F_Vendor-FB-Milwaukee': 0.22666666666666668,\n",
       " 'SocialMedia_P-VF-F_Vendor-Link-Milwaukee': 0.18666666666666668,\n",
       " 'DynamicMedia|DPAM|REGT': 0.07555555555555558}"
      ]
     },
     "execution_count": 192,
     "metadata": {},
     "output_type": "execute_result"
    }
   ],
   "source": [
    "attributions"
   ]
  }
 ],
 "metadata": {
  "kernelspec": {
   "display_name": "Python 3",
   "language": "python",
   "name": "python3"
  },
  "language_info": {
   "codemirror_mode": {
    "name": "ipython",
    "version": 3
   },
   "file_extension": ".py",
   "mimetype": "text/x-python",
   "name": "python",
   "nbconvert_exporter": "python",
   "pygments_lexer": "ipython3",
   "version": "3.7.6"
  }
 },
 "nbformat": 4,
 "nbformat_minor": 4
}
